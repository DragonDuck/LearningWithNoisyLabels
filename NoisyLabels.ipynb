{
 "cells": [
  {
   "cell_type": "markdown",
   "metadata": {},
   "source": [
    "# Training Neural Networks with Noisy Labels\n",
    "\n",
    "Neural networks, especially deep neural networks with many parameters, require a large amount of training data. This has led to the development of sophisticated data augmentation methods as well as entire industries dedicated to data annotation. The validation of these annotation labels is a common problem whenever such a large amount of data is involved as incorrect, or noisy, labels can lead to incorrectly trained machine learning algorithms that do not properly identify patterns within the data.\n",
    "\n",
    "All code can be found on the Github repository, [Learning with Noisy Labels](https://github.com/DragonDuck/LearningWithNoisyLabels)."
   ]
  },
  {
   "cell_type": "markdown",
   "metadata": {},
   "source": [
    "## Imports"
   ]
  },
  {
   "cell_type": "code",
   "execution_count": 13,
   "metadata": {},
   "outputs": [],
   "source": [
    "# Ensure reproducible results\n",
    "import numpy as np\n",
    "np.random.seed(101)\n",
    "import tensorflow \n",
    "tensorflow.set_random_seed(101)\n",
    "import pandas as pd\n",
    "import h5py\n",
    "import matplotlib.pyplot as plt\n",
    "%matplotlib inline\n",
    "import sklearn.model_selection\n",
    "import sklearn.metrics\n",
    "import keras.utils\n",
    "from keras.models import Model\n",
    "from keras.layers import Input, Conv2D, MaxPool2D, Dense, Flatten"
   ]
  },
  {
   "cell_type": "markdown",
   "metadata": {},
   "source": [
    "## The Data\n",
    "To showcase the effects of noisy labels, I will use the [MNIST handwritten digit dataset](http://yann.lecun.com/exdb/mnist/). I have previously downloaded and pre-processed the data and stored it in an HDF5 file."
   ]
  },
  {
   "cell_type": "code",
   "execution_count": 2,
   "metadata": {},
   "outputs": [],
   "source": [
    "with h5py.File(\"MNIST.h5\", \"r\") as h5handle:\n",
    "    images = h5handle[\"images\"][()]\n",
    "    labels = h5handle[\"labels\"][()]"
   ]
  },
  {
   "cell_type": "markdown",
   "metadata": {},
   "source": [
    "The images are stored as a 4D array (Tensorflow format: batch size, width, height, number of channels) and the labels are a simple 1D array."
   ]
  },
  {
   "cell_type": "code",
   "execution_count": 3,
   "metadata": {},
   "outputs": [
    {
     "name": "stdout",
     "output_type": "stream",
     "text": [
      "Images array shape: (70000, 28, 28, 1)\n",
      "Labels array shape: (70000,)\n"
     ]
    }
   ],
   "source": [
    "print(\"Images array shape: {}\".format(images.shape))\n",
    "print(\"Labels array shape: {}\".format(labels.shape))"
   ]
  },
  {
   "cell_type": "markdown",
   "metadata": {},
   "source": [
    "A look at some of the digits shows us the expected output."
   ]
  },
  {
   "cell_type": "code",
   "execution_count": 4,
   "metadata": {},
   "outputs": [
    {
     "data": {
      "image/png": "[encoded data removed]",
      "text/plain": [
       "<Figure size 432x288 with 4 Axes>"
      ]
     },
     "metadata": {
      "needs_background": "light"
     },
     "output_type": "display_data"
    }
   ],
   "source": [
    "fig, ax = plt.subplots(2, 2);\n",
    "ax[0, 0].imshow(images[284, ..., 0], cmap=\"gray\");\n",
    "ax[0, 0].set_title(\"Label: \" + str(labels[284]));\n",
    "ax[0, 0].axis(\"off\");\n",
    "ax[0, 1].imshow(images[1129, ..., 0], cmap=\"gray\");\n",
    "ax[0, 1].set_title(\"Label: \" + str(labels[1129]));\n",
    "ax[0, 1].axis(\"off\");\n",
    "ax[1, 0].imshow(images[9470, ..., 0], cmap=\"gray\");\n",
    "ax[1, 0].set_title(\"Label: \" + str(labels[9470]));\n",
    "ax[1, 0].axis(\"off\");\n",
    "ax[1, 1].imshow(images[30044, ..., 0], cmap=\"gray\");\n",
    "ax[1, 1].set_title(\"Label: \" + str(labels[30044]));\n",
    "ax[1, 1].axis(\"off\");\n",
    "plt.show()"
   ]
  },
  {
   "cell_type": "markdown",
   "metadata": {},
   "source": [
    "I separate the data into a training and a test dataset."
   ]
  },
  {
   "cell_type": "markdown",
   "metadata": {},
   "source": [
    "## The Model\n",
    "I'll be using a simple convolutional network for this task. MNIST is an extremely easy dataset to classify and doesn't require a particularly sophisticated model."
   ]
  },
  {
   "cell_type": "code",
   "execution_count": 5,
   "metadata": {},
   "outputs": [],
   "source": [
    "def get_model(img_shape, nclasses):\n",
    "    \"\"\"\n",
    "    Build convolutional network\n",
    "    :param img_shape:\n",
    "    :param nclasses:\n",
    "    :return:\n",
    "    \"\"\"\n",
    "    inputs = Input(shape=img_shape, name=\"Input\")\n",
    "    conv1 = Conv2D(\n",
    "        filters=32, kernel_size=(3, 3),\n",
    "        activation=\"relu\", padding=\"valid\",\n",
    "        strides=(1, 1), name=\"Conv1\")(inputs)\n",
    "    conv2 = Conv2D(\n",
    "        filters=32, kernel_size=(3, 3),\n",
    "        activation=\"relu\", padding=\"valid\",\n",
    "        strides=(1, 1), name=\"Conv2\")(conv1)\n",
    "    maxpool1 = MaxPool2D(\n",
    "        pool_size=(3, 3), strides=(2, 2), \n",
    "        padding=\"valid\", name=\"MaxPool1\")(conv2)\n",
    "\n",
    "    conv3 = Conv2D(\n",
    "        filters=64, kernel_size=(3, 3),\n",
    "        activation=\"relu\", padding=\"valid\",\n",
    "        strides=(1, 1), name=\"Conv3\")(maxpool1)\n",
    "    conv4 = Conv2D(\n",
    "        filters=64, kernel_size=(3, 3),\n",
    "        activation=\"relu\", padding=\"valid\",\n",
    "        strides=(1, 1), name=\"Conv4\")(conv3)\n",
    "    maxpool2 = MaxPool2D(\n",
    "        pool_size=(3, 3), strides=(2, 2), \n",
    "        padding=\"valid\", name=\"MaxPool2\")(conv4)\n",
    "\n",
    "    flattened = Flatten(name=\"Reshape\")(maxpool2)\n",
    "\n",
    "    outputs = Dense(name=\"Dense\", units=nclasses, activation=\"sigmoid\")(flattened)\n",
    "\n",
    "    model = Model(inputs=inputs, outputs=outputs)\n",
    "    model.compile(loss=\"categorical_crossentropy\", optimizer=\"Adam\")\n",
    "    \n",
    "    return model"
   ]
  },
  {
   "cell_type": "code",
   "execution_count": 6,
   "metadata": {},
   "outputs": [
    {
     "name": "stdout",
     "output_type": "stream",
     "text": [
      "WARNING:tensorflow:From /home/jan/anaconda3/envs/py3/lib/python3.7/site-packages/tensorflow/python/framework/op_def_library.py:263: colocate_with (from tensorflow.python.framework.ops) is deprecated and will be removed in a future version.\n",
      "Instructions for updating:\n",
      "Colocations handled automatically by placer.\n"
     ]
    }
   ],
   "source": [
    "model = get_model(\n",
    "    img_shape=images.shape[1:4], \n",
    "    nclasses=len(np.unique(labels)))"
   ]
  },
  {
   "cell_type": "code",
   "execution_count": 7,
   "metadata": {},
   "outputs": [
    {
     "name": "stdout",
     "output_type": "stream",
     "text": [
      "Name      | Output Shape        | Kernel / Pool Shape\n",
      "----------|---------------------|--------------------\n",
      "Input     | (None, 28, 28, 1)   |\n",
      "Conv1     | (None, 26, 26, 32)  | [3, 3, 1, 32]       \n",
      "Conv2     | (None, 24, 24, 32)  | [3, 3, 32, 32]      \n",
      "MaxPool1  | (None, 11, 11, 32)  | (3, 3)              \n",
      "Conv3     | (None, 9, 9, 64)    | [3, 3, 32, 64]      \n",
      "Conv4     | (None, 7, 7, 64)    | [3, 3, 64, 64]      \n",
      "MaxPool2  | (None, 3, 3, 64)    | (3, 3)              \n",
      "Reshape   | (None, 576)         |\n",
      "Dense     | (None, 10)          | [576, 10]           \n",
      "\n"
     ]
    }
   ],
   "source": [
    "def print_model(model):\n",
    "    desc = \"Name      | Output Shape        | Kernel / Pool Shape\\n\"\n",
    "    desc += \"----------|---------------------|--------------------\\n\"\n",
    "    for layer in model.layers:\n",
    "        desc += \"{:<10}|\".format(layer.name)\n",
    "        desc += \" {:<20}|\".format(str(layer.output_shape))\n",
    "        if hasattr(layer, \"kernel\"):\n",
    "            desc += \" {:<20}\".format(str(layer.kernel.shape.as_list()))\n",
    "        if hasattr(layer, \"pool_size\"):\n",
    "            desc += \" {:<20}\".format(str(layer.pool_size))\n",
    "        desc += \"\\n\"\n",
    "    print(desc)\n",
    "    \n",
    "print_model(model)"
   ]
  },
  {
   "cell_type": "markdown",
   "metadata": {},
   "source": [
    "## Scrambling the labels\n",
    "Next, I want to define a function that scrambles the labels. It's important that this function allows us to control the fraction of labels that are guaranteed to be correct. That means labels selected for scrambling may not get their original label assigned to them."
   ]
  },
  {
   "cell_type": "code",
   "execution_count": 8,
   "metadata": {},
   "outputs": [],
   "source": [
    "def scramble_labels(labels, percentage, possible_values=None):\n",
    "    \"\"\"\n",
    "    Takes a label vector and randomly scrambles a fraction of the labels.\n",
    "\n",
    "    The scrambling ensures that none of the altered labels will have their\n",
    "    original value, i.e. the scrambling percentage is guaranteed.\n",
    "\n",
    "    By default, the function assumes that 'labels' contains all possible \n",
    "    label values. Should this not be the case, 'possible_values' can be used\n",
    "    to pass a list of all possible labels.\n",
    "\n",
    "    :param labels: Numpy array (num_labels,)\n",
    "    :param percentage: Integer\n",
    "    :param possible_values: Numpy array (num_unique_labels,)\n",
    "    :return:\n",
    "    \"\"\"\n",
    "    if percentage > 1:\n",
    "        print(\"'scramble_freq' truncated to 1.0\")\n",
    "        percentage = 1.0\n",
    "\n",
    "    if percentage == 0:\n",
    "        return labels\n",
    "\n",
    "    labels = labels.flatten()\n",
    "\n",
    "    labels_to_scramble = np.random.choice(\n",
    "        a=range(len(labels)),\n",
    "        size=int(len(labels) * percentage),\n",
    "        replace=False)\n",
    "\n",
    "    # Define possible values for each entry\n",
    "    if possible_values is None:\n",
    "        possible_values = np.unique(labels)\n",
    "    \n",
    "    if not np.all(np.isin(np.unique(labels), possible_values)):\n",
    "        raise ValueError(\n",
    "            \"'labels' contains values not found in 'possible_values'\")\n",
    "    \n",
    "    possible_values = np.repeat(\n",
    "        a=np.expand_dims(possible_values, 0),\n",
    "        repeats=labels_to_scramble.shape[0],\n",
    "        axis=0)\n",
    "    forbidden_values = np.repeat(\n",
    "        a=np.expand_dims(labels[labels_to_scramble], 1),\n",
    "        repeats=len(np.unique(labels)), axis=1)\n",
    "\n",
    "    sel = possible_values != forbidden_values\n",
    "    new_possible_values = np.reshape(\n",
    "        a=possible_values[sel],\n",
    "        newshape=(possible_values.shape[0], possible_values.shape[1]-1))\n",
    "\n",
    "    new_values = []\n",
    "    for vals in new_possible_values:\n",
    "        new_values.append(np.random.choice(vals))\n",
    "    new_values = np.array(new_values)\n",
    "    labels[labels_to_scramble] = new_values\n",
    "\n",
    "    return labels"
   ]
  },
  {
   "cell_type": "markdown",
   "metadata": {},
   "source": [
    "I can test this function with a dummy example:"
   ]
  },
  {
   "cell_type": "code",
   "execution_count": 9,
   "metadata": {},
   "outputs": [
    {
     "name": "stdout",
     "output_type": "stream",
     "text": [
      "Original labels: [0 1 2 3 4 5 6 7 8 9]\n",
      "10% scrambling:  [0 6 2 3 4 5 6 7 8 9]\n",
      "50% scrambling:  [0 1 2 3 9 3 8 8 8 0]\n",
      "100% scrambling: [5 9 7 8 8 2 8 8 0 4]\n"
     ]
    }
   ],
   "source": [
    "dummy_labels = np.arange(10)\n",
    "print(\"Original labels: {}\".format(dummy_labels))\n",
    "print(\"10% scrambling:  {}\".format(scramble_labels(dummy_labels, 0.1)))\n",
    "print(\"50% scrambling:  {}\".format(scramble_labels(dummy_labels, 0.5)))\n",
    "print(\"100% scrambling: {}\".format(scramble_labels(dummy_labels, 1)))"
   ]
  },
  {
   "cell_type": "markdown",
   "metadata": {},
   "source": [
    "## Training and evaluating the model on scrambled labels\n",
    "To assess the model's performance, I train the model on the scrambled labels but then assess its performance with regards to the true labels to ascertain how well it reconstructs the correct relationship between input data and true labels from the noisy training data. A comparison of the training and validation losses shows that the models are not overfitting."
   ]
  },
  {
   "cell_type": "code",
   "execution_count": 10,
   "metadata": {},
   "outputs": [
    {
     "name": "stdout",
     "output_type": "stream",
     "text": [
      "WARNING:tensorflow:From /home/jan/anaconda3/envs/py3/lib/python3.7/site-packages/tensorflow/python/ops/math_ops.py:3066: to_int32 (from tensorflow.python.ops.math_ops) is deprecated and will be removed in a future version.\n",
      "Instructions for updating:\n",
      "Use tf.cast instead.\n",
      "Train on 42000 samples, validate on 18000 samples\n",
      "Epoch 1/5\n",
      " - 39s - loss: 0.1782 - val_loss: 0.0752\n",
      "Epoch 2/5\n",
      " - 36s - loss: 0.0503 - val_loss: 0.0413\n",
      "Epoch 3/5\n",
      " - 38s - loss: 0.0357 - val_loss: 0.0356\n",
      "Epoch 4/5\n",
      " - 38s - loss: 0.0271 - val_loss: 0.0391\n",
      "Epoch 5/5\n",
      " - 39s - loss: 0.0233 - val_loss: 0.0435\n",
      "Train on 42000 samples, validate on 18000 samples\n",
      "Epoch 1/5\n",
      " - 42s - loss: 0.6430 - val_loss: 0.6335\n",
      "Epoch 2/5\n",
      " - 37s - loss: 0.6004 - val_loss: 0.6208\n",
      "Epoch 3/5\n",
      " - 37s - loss: 0.5794 - val_loss: 0.6246\n",
      "Epoch 4/5\n",
      " - 37s - loss: 0.5636 - val_loss: 0.6216\n",
      "Epoch 5/5\n",
      " - 37s - loss: 0.5456 - val_loss: 0.6312\n",
      "Train on 42000 samples, validate on 18000 samples\n",
      "Epoch 1/5\n",
      " - 35s - loss: 1.0037 - val_loss: 1.0009\n",
      "Epoch 2/5\n",
      " - 31s - loss: 0.9728 - val_loss: 1.0117\n",
      "Epoch 3/5\n",
      " - 34s - loss: 0.9550 - val_loss: 1.0080\n",
      "Epoch 4/5\n",
      " - 35s - loss: 0.9349 - val_loss: 1.0154\n",
      "Epoch 5/5\n",
      " - 41s - loss: 0.9119 - val_loss: 1.0257\n",
      "Train on 42000 samples, validate on 18000 samples\n",
      "Epoch 1/5\n",
      " - 33s - loss: 1.3348 - val_loss: 1.3446\n",
      "Epoch 2/5\n",
      " - 29s - loss: 1.3022 - val_loss: 1.3531\n",
      "Epoch 3/5\n",
      " - 30s - loss: 1.2804 - val_loss: 1.3584\n",
      "Epoch 4/5\n",
      " - 29s - loss: 1.2570 - val_loss: 1.3738\n",
      "Epoch 5/5\n",
      " - 30s - loss: 1.2312 - val_loss: 1.3752\n",
      "Train on 42000 samples, validate on 18000 samples\n",
      "Epoch 1/5\n",
      " - 31s - loss: 1.6142 - val_loss: 1.6128\n",
      "Epoch 2/5\n",
      " - 38s - loss: 1.5818 - val_loss: 1.6084\n",
      "Epoch 3/5\n",
      " - 37s - loss: 1.5610 - val_loss: 1.6150\n",
      "Epoch 4/5\n",
      " - 33s - loss: 1.5366 - val_loss: 1.6290\n",
      "Epoch 5/5\n",
      " - 32s - loss: 1.5080 - val_loss: 1.6440\n",
      "Train on 42000 samples, validate on 18000 samples\n",
      "Epoch 1/5\n",
      " - 31s - loss: 1.8440 - val_loss: 1.8436\n",
      "Epoch 2/5\n",
      " - 35s - loss: 1.8150 - val_loss: 1.8484\n",
      "Epoch 3/5\n",
      " - 33s - loss: 1.7937 - val_loss: 1.8500\n",
      "Epoch 4/5\n",
      " - 35s - loss: 1.7694 - val_loss: 1.8573\n",
      "Epoch 5/5\n",
      " - 38s - loss: 1.7377 - val_loss: 1.8815\n",
      "Train on 42000 samples, validate on 18000 samples\n",
      "Epoch 1/5\n",
      " - 34s - loss: 2.0340 - val_loss: 2.0400\n",
      "Epoch 2/5\n",
      " - 31s - loss: 2.0085 - val_loss: 2.0369\n",
      "Epoch 3/5\n",
      " - 29s - loss: 1.9896 - val_loss: 2.0426\n",
      "Epoch 4/5\n",
      " - 29s - loss: 1.9698 - val_loss: 2.0513\n",
      "Epoch 5/5\n",
      " - 28s - loss: 1.9407 - val_loss: 2.0737\n",
      "Train on 42000 samples, validate on 18000 samples\n",
      "Epoch 1/5\n",
      " - 28s - loss: 2.1815 - val_loss: 2.1719\n",
      "Epoch 2/5\n",
      " - 28s - loss: 2.1600 - val_loss: 2.1767\n",
      "Epoch 3/5\n",
      " - 28s - loss: 2.1460 - val_loss: 2.1783\n",
      "Epoch 4/5\n",
      " - 29s - loss: 2.1283 - val_loss: 2.1826\n",
      "Epoch 5/5\n",
      " - 29s - loss: 2.1030 - val_loss: 2.2028\n",
      "Train on 42000 samples, validate on 18000 samples\n",
      "Epoch 1/5\n",
      " - 28s - loss: 2.2753 - val_loss: 2.2737\n",
      "Epoch 2/5\n",
      " - 29s - loss: 2.2642 - val_loss: 2.2729\n",
      "Epoch 3/5\n",
      " - 29s - loss: 2.2557 - val_loss: 2.2775\n",
      "Epoch 4/5\n",
      " - 29s - loss: 2.2453 - val_loss: 2.2857\n",
      "Epoch 5/5\n",
      " - 28s - loss: 2.2283 - val_loss: 2.2915\n",
      "Train on 42000 samples, validate on 18000 samples\n",
      "Epoch 1/5\n",
      " - 28s - loss: 2.3056 - val_loss: 2.3026\n",
      "Epoch 2/5\n",
      " - 28s - loss: 2.3023 - val_loss: 2.3028\n",
      "Epoch 3/5\n",
      " - 29s - loss: 2.3020 - val_loss: 2.3034\n",
      "Epoch 4/5\n",
      " - 29s - loss: 2.3007 - val_loss: 2.3054\n",
      "Epoch 5/5\n",
      " - 28s - loss: 2.2984 - val_loss: 2.3061\n",
      "Train on 42000 samples, validate on 18000 samples\n",
      "Epoch 1/5\n",
      " - 29s - loss: 2.2954 - val_loss: 2.2844\n",
      "Epoch 2/5\n",
      " - 29s - loss: 2.2771 - val_loss: 2.2713\n",
      "Epoch 3/5\n",
      " - 28s - loss: 2.2629 - val_loss: 2.2636\n",
      "Epoch 4/5\n",
      " - 29s - loss: 2.2513 - val_loss: 2.2538\n",
      "Epoch 5/5\n",
      " - 28s - loss: 2.2383 - val_loss: 2.2507\n"
     ]
    }
   ],
   "source": [
    "f1scores_real = []\n",
    "f1scores_scrambled = []\n",
    "training_histories = []\n",
    "percentages = np.arange(0, 1.1, 0.1)\n",
    "\n",
    "for p in percentages:\n",
    "    scrambled_labels = scramble_labels(\n",
    "        labels=labels, percentage=p)\n",
    "\n",
    "    x_train, x_test, y_train, y_test, y_scr_train, y_scr_test = sklearn.model_selection.train_test_split(\n",
    "        images, \n",
    "        keras.utils.to_categorical(labels), \n",
    "        keras.utils.to_categorical(scrambled_labels), \n",
    "        test_size=10000, random_state=101)\n",
    "\n",
    "    training_histories.append(model.fit(\n",
    "        x=x_train, y=y_scr_train,\n",
    "        validation_split=0.3,\n",
    "        batch_size=32, epochs=5, verbose=2))\n",
    "\n",
    "    pred = model.predict(x=x_test)\n",
    "\n",
    "    f1scores_real.append(\n",
    "        sklearn.metrics.f1_score(\n",
    "            y_true=np.argmax(y_test, axis=1),\n",
    "            y_pred=np.argmax(pred, axis=1),\n",
    "            average=\"weighted\"))\n",
    "\n",
    "    f1scores_scrambled.append(\n",
    "        sklearn.metrics.f1_score(\n",
    "            y_true=np.argmax(y_scr_test, axis=1),\n",
    "            y_pred=np.argmax(pred, axis=1),\n",
    "            average=\"weighted\"))"
   ]
  },
  {
   "cell_type": "code",
   "execution_count": 20,
   "metadata": {},
   "outputs": [],
   "source": [
    "results = pd.DataFrame(\n",
    "    data={\n",
    "        \"TrueF1\": f1scores_real,\n",
    "        \"ScrambledF1\": f1scores_scrambled},\n",
    "    index=np.round(percentages, 2))\n",
    "results.index.name = \"Percentages\"\n",
    "results.to_csv(\"F1Scores.csv\")"
   ]
  },
  {
   "cell_type": "markdown",
   "metadata": {},
   "source": [
    "Comparing the F1 scores with regards to the true and the scrambled labels reveals a remarkable characteristic: the model is capable of learning the true relationship between input data and target variables even when up to $80\\%$ of the training labels are scrambled! In fact, the model fails to properly learn the relationship between input data and the scrambled labels, as evidenced by the steadily-declining F1 score with regarrds to the scrambled labels."
   ]
  },
  {
   "cell_type": "code",
   "execution_count": 28,
   "metadata": {},
   "outputs": [
    {
     "data": {
      "image/png": "[encoded data removed]",
      "text/plain": [
       "<Figure size 432x288 with 1 Axes>"
      ]
     },
     "metadata": {
      "needs_background": "light"
     },
     "output_type": "display_data"
    }
   ],
   "source": [
    "ax = results.plot(title=\"F1 Scores with regards to true and scrambled labels\")\n",
    "ax.set_xlabel(\"Scrambling percentage\");\n",
    "ax.set_ylabel(\"F1 Score\");"
   ]
  },
  {
   "cell_type": "markdown",
   "metadata": {},
   "source": [
    "## Conclusion\n",
    "A neural network is clearly capable of learning the correct relationship between input data and target variables, even when training labels have been partially falsified. Astonishingly, the true performance doesn't gradually decrease but abruptly fails. In this case, the model performed near-perfectly up to a scrambling percentage of approximately $80\\%$. For scrambling percentages above this threshold, the model fails entirely and performance drops to what would be expected of random guessing.\n",
    "\n",
    "It needs to be said that the MNIST handwritten digits dataset is remarkably simple, which explains the high threshold. More complex datasets will have a lower threshold but should nevertheless elicit the same behaviour in models trained on noisy data."
   ]
  }
 ],
 "metadata": {
  "kernelspec": {
   "display_name": "Python 3",
   "language": "python",
   "name": "python3"
  },
  "language_info": {
   "codemirror_mode": {
    "name": "ipython",
    "version": 3
   },
   "file_extension": ".py",
   "mimetype": "text/x-python",
   "name": "python",
   "nbconvert_exporter": "python",
   "pygments_lexer": "ipython3",
   "version": "3.7.3"
  }
 },
 "nbformat": 4,
 "nbformat_minor": 2
}
