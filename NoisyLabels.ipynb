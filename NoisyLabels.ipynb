{
 "cells": [
  {
   "cell_type": "markdown",
   "metadata": {},
   "source": [
    "# Training Neural Networks with Noisy Labels\n",
    "\n",
    "Neural networks, especially deep neural networks with many parameters, require a large amount of training data. This has led to the development of sophisticated data augmentation methods as well as entire industries dedicated to data annotation. The validation of these annotation labels is a common problem whenever such a large amount of data is involved as incorrect, or noisy, labels can lead to incorrectly trained machine learning algorithms that do not properly identify patterns within the data.\n",
    "\n",
    "All code can be found on the Github repository, [Learning with Noisy Labels](https://github.com/DragonDuck/LearningWithNoisyLabels)."
   ]
  },
  {
   "cell_type": "markdown",
   "metadata": {},
   "source": [
    "## Imports"
   ]
  },
  {
   "cell_type": "code",
   "execution_count": 1,
   "metadata": {},
   "outputs": [
    {
     "name": "stderr",
     "output_type": "stream",
     "text": [
      "Using TensorFlow backend.\n"
     ]
    }
   ],
   "source": [
    "# Ensure reproducible results\n",
    "import numpy as np\n",
    "np.random.seed(101)\n",
    "import tensorflow \n",
    "tensorflow.set_random_seed(101)\n",
    "import pandas as pd\n",
    "import h5py\n",
    "import matplotlib.pyplot as plt\n",
    "%matplotlib inline\n",
    "import sklearn.model_selection\n",
    "import sklearn.metrics\n",
    "import keras.utils\n",
    "import keras.datasets\n",
    "from keras.models import Model\n",
    "from keras.layers import Input, Conv2D, MaxPool2D, Dense, Flatten"
   ]
  },
  {
   "cell_type": "markdown",
   "metadata": {},
   "source": [
    "## The Data\n",
    "To showcase the effects of noisy labels, I will use the [MNIST handwritten digit dataset](http://yann.lecun.com/exdb/mnist/)."
   ]
  },
  {
   "cell_type": "code",
   "execution_count": 2,
   "metadata": {},
   "outputs": [],
   "source": [
    "(x_train, y_train), (x_test, y_test) = keras.datasets.mnist.load_data()\n",
    "\n",
    "# Min-Max Scaling\n",
    "train_min = np.min(x_train, axis=(1, 2))[:, np.newaxis, np.newaxis]\n",
    "train_max = np.max(x_train, axis=(1, 2))[:, np.newaxis, np.newaxis]\n",
    "x_train = (x_train - train_min) / (train_max - train_min)\n",
    "test_min = np.min(x_test, axis=(1, 2))[:, np.newaxis, np.newaxis]\n",
    "test_max = np.max(x_test, axis=(1, 2))[:, np.newaxis, np.newaxis]\n",
    "x_test = (x_test - test_min) / (test_max - test_min)\n",
    "\n",
    "# Transform input to be 4D\n",
    "x_train = x_train[..., None]\n",
    "x_test = x_test[..., None]"
   ]
  },
  {
   "cell_type": "markdown",
   "metadata": {},
   "source": [
    "The images are stored as a 4D array (Tensorflow format: batch size, width, height, number of channels) and the labels are a simple 1D array."
   ]
  },
  {
   "cell_type": "code",
   "execution_count": 3,
   "metadata": {},
   "outputs": [
    {
     "name": "stdout",
     "output_type": "stream",
     "text": [
      "Training Images array shape: (60000, 28, 28, 1)\n",
      "Testing Images array shape:  (10000, 28, 28, 1)\n",
      "Training Labels array shape: (60000,)\n",
      "Testing Labels array shape:  (10000,)\n"
     ]
    }
   ],
   "source": [
    "print(\"Training Images array shape: {}\".format(x_train.shape))\n",
    "print(\"Testing Images array shape:  {}\".format(x_test.shape))\n",
    "print(\"Training Labels array shape: {}\".format(y_train.shape))\n",
    "print(\"Testing Labels array shape:  {}\".format(y_test.shape))"
   ]
  },
  {
   "cell_type": "markdown",
   "metadata": {},
   "source": [
    "A look at some of the digits shows us the expected output."
   ]
  },
  {
   "cell_type": "code",
   "execution_count": 4,
   "metadata": {},
   "outputs": [
    {
     "data": {
      "image/png": "[encoded data removed]",
      "text/plain": [
       "<Figure size 432x288 with 4 Axes>"
      ]
     },
     "metadata": {
      "needs_background": "light"
     },
     "output_type": "display_data"
    }
   ],
   "source": [
    "fig, ax = plt.subplots(2, 2);\n",
    "ax[0, 0].imshow(x_train[284, ..., 0], cmap=\"gray\");\n",
    "ax[0, 0].set_title(\"Label: \" + str(y_train[284]));\n",
    "ax[0, 0].axis(\"off\");\n",
    "ax[0, 1].imshow(x_train[1129, ..., 0], cmap=\"gray\");\n",
    "ax[0, 1].set_title(\"Label: \" + str(y_train[1129]));\n",
    "ax[0, 1].axis(\"off\");\n",
    "ax[1, 0].imshow(x_test[9471, ..., 0], cmap=\"gray\");\n",
    "ax[1, 0].set_title(\"Label: \" + str(y_test[9471]));\n",
    "ax[1, 0].axis(\"off\");\n",
    "ax[1, 1].imshow(x_test[44, ..., 0], cmap=\"gray\");\n",
    "ax[1, 1].set_title(\"Label: \" + str(y_test[44]));\n",
    "ax[1, 1].axis(\"off\");\n",
    "plt.show()"
   ]
  },
  {
   "cell_type": "markdown",
   "metadata": {},
   "source": [
    "## The Model\n",
    "I'll be using a simple convolutional network for this task. MNIST is an extremely easy dataset to classify and doesn't require a particularly sophisticated model."
   ]
  },
  {
   "cell_type": "code",
   "execution_count": 5,
   "metadata": {},
   "outputs": [],
   "source": [
    "def get_model(img_shape, nclasses):\n",
    "    \"\"\"\n",
    "    Build convolutional network\n",
    "    :param img_shape:\n",
    "    :param nclasses:\n",
    "    :return:\n",
    "    \"\"\"\n",
    "    inputs = Input(shape=img_shape, name=\"Input\")\n",
    "    conv1 = Conv2D(\n",
    "        filters=32, kernel_size=(3, 3),\n",
    "        activation=\"relu\", padding=\"valid\",\n",
    "        strides=(1, 1), name=\"Conv1\")(inputs)\n",
    "    conv2 = Conv2D(\n",
    "        filters=32, kernel_size=(3, 3),\n",
    "        activation=\"relu\", padding=\"valid\",\n",
    "        strides=(1, 1), name=\"Conv2\")(conv1)\n",
    "    maxpool1 = MaxPool2D(\n",
    "        pool_size=(3, 3), strides=(2, 2), \n",
    "        padding=\"valid\", name=\"MaxPool1\")(conv2)\n",
    "\n",
    "    conv3 = Conv2D(\n",
    "        filters=64, kernel_size=(3, 3),\n",
    "        activation=\"relu\", padding=\"valid\",\n",
    "        strides=(1, 1), name=\"Conv3\")(maxpool1)\n",
    "    conv4 = Conv2D(\n",
    "        filters=64, kernel_size=(3, 3),\n",
    "        activation=\"relu\", padding=\"valid\",\n",
    "        strides=(1, 1), name=\"Conv4\")(conv3)\n",
    "    maxpool2 = MaxPool2D(\n",
    "        pool_size=(3, 3), strides=(2, 2), \n",
    "        padding=\"valid\", name=\"MaxPool2\")(conv4)\n",
    "\n",
    "    flattened = Flatten(name=\"Reshape\")(maxpool2)\n",
    "\n",
    "    outputs = Dense(name=\"Dense\", units=nclasses, activation=\"sigmoid\")(flattened)\n",
    "\n",
    "    model = Model(inputs=inputs, outputs=outputs)\n",
    "    model.compile(loss=\"categorical_crossentropy\", optimizer=\"Adam\")\n",
    "    \n",
    "    return model"
   ]
  },
  {
   "cell_type": "code",
   "execution_count": 6,
   "metadata": {},
   "outputs": [
    {
     "name": "stdout",
     "output_type": "stream",
     "text": [
      "WARNING:tensorflow:From /home/jan/anaconda3/envs/py3/lib/python3.7/site-packages/tensorflow/python/framework/op_def_library.py:263: colocate_with (from tensorflow.python.framework.ops) is deprecated and will be removed in a future version.\n",
      "Instructions for updating:\n",
      "Colocations handled automatically by placer.\n"
     ]
    }
   ],
   "source": [
    "model = get_model(\n",
    "    img_shape=x_train.shape[1:4], \n",
    "    nclasses=len(np.unique(y_train)))"
   ]
  },
  {
   "cell_type": "code",
   "execution_count": 7,
   "metadata": {},
   "outputs": [
    {
     "name": "stdout",
     "output_type": "stream",
     "text": [
      "Name      | Output Shape        | Kernel / Pool Shape\n",
      "----------|---------------------|--------------------\n",
      "Input     | (None, 28, 28, 1)   |\n",
      "Conv1     | (None, 26, 26, 32)  | [3, 3, 1, 32]       \n",
      "Conv2     | (None, 24, 24, 32)  | [3, 3, 32, 32]      \n",
      "MaxPool1  | (None, 11, 11, 32)  | (3, 3)              \n",
      "Conv3     | (None, 9, 9, 64)    | [3, 3, 32, 64]      \n",
      "Conv4     | (None, 7, 7, 64)    | [3, 3, 64, 64]      \n",
      "MaxPool2  | (None, 3, 3, 64)    | (3, 3)              \n",
      "Reshape   | (None, 576)         |\n",
      "Dense     | (None, 10)          | [576, 10]           \n",
      "\n"
     ]
    }
   ],
   "source": [
    "def print_model(model):\n",
    "    desc = \"Name      | Output Shape        | Kernel / Pool Shape\\n\"\n",
    "    desc += \"----------|---------------------|--------------------\\n\"\n",
    "    for layer in model.layers:\n",
    "        desc += \"{:<10}|\".format(layer.name)\n",
    "        desc += \" {:<20}|\".format(str(layer.output_shape))\n",
    "        if hasattr(layer, \"kernel\"):\n",
    "            desc += \" {:<20}\".format(str(layer.kernel.shape.as_list()))\n",
    "        if hasattr(layer, \"pool_size\"):\n",
    "            desc += \" {:<20}\".format(str(layer.pool_size))\n",
    "        desc += \"\\n\"\n",
    "    print(desc)\n",
    "    \n",
    "print_model(model)"
   ]
  },
  {
   "cell_type": "markdown",
   "metadata": {},
   "source": [
    "## Scrambling the labels\n",
    "Next, I want to define a function that scrambles the labels. It's important that this function allows us to control the fraction of labels that are guaranteed to be correct. That means labels selected for scrambling may not get their original label assigned to them."
   ]
  },
  {
   "cell_type": "code",
   "execution_count": 8,
   "metadata": {},
   "outputs": [],
   "source": [
    "def scramble_labels(labels, percentage, possible_values=None):\n",
    "    \"\"\"\n",
    "    Takes a label vector and randomly scrambles a fraction of the labels.\n",
    "\n",
    "    The scrambling ensures that none of the altered labels will have their\n",
    "    original value, i.e. the scrambling percentage is guaranteed.\n",
    "\n",
    "    By default, the function assumes that 'labels' contains all possible \n",
    "    label values. Should this not be the case, 'possible_values' can be used\n",
    "    to pass a list of all possible labels.\n",
    "\n",
    "    :param labels: Numpy array (num_labels,)\n",
    "    :param percentage: Integer\n",
    "    :param possible_values: Numpy array (num_unique_labels,)\n",
    "    :return:\n",
    "    \"\"\"\n",
    "    if percentage > 1:\n",
    "        print(\"'scramble_freq' truncated to 1.0\")\n",
    "        percentage = 1.0\n",
    "\n",
    "    if percentage == 0:\n",
    "        return labels\n",
    "\n",
    "    labels = labels.flatten()\n",
    "\n",
    "    labels_to_scramble = np.random.choice(\n",
    "        a=range(len(labels)),\n",
    "        size=int(len(labels) * percentage),\n",
    "        replace=False)\n",
    "\n",
    "    # Define possible values for each entry\n",
    "    if possible_values is None:\n",
    "        possible_values = np.unique(labels)\n",
    "    \n",
    "    if not np.all(np.isin(np.unique(labels), possible_values)):\n",
    "        raise ValueError(\n",
    "            \"'labels' contains values not found in 'possible_values'\")\n",
    "    \n",
    "    possible_values = np.repeat(\n",
    "        a=np.expand_dims(possible_values, 0),\n",
    "        repeats=labels_to_scramble.shape[0],\n",
    "        axis=0)\n",
    "    forbidden_values = np.repeat(\n",
    "        a=np.expand_dims(labels[labels_to_scramble], 1),\n",
    "        repeats=len(np.unique(labels)), axis=1)\n",
    "\n",
    "    sel = possible_values != forbidden_values\n",
    "    new_possible_values = np.reshape(\n",
    "        a=possible_values[sel],\n",
    "        newshape=(possible_values.shape[0], possible_values.shape[1]-1))\n",
    "\n",
    "    new_values = []\n",
    "    for vals in new_possible_values:\n",
    "        new_values.append(np.random.choice(vals))\n",
    "    new_values = np.array(new_values)\n",
    "    labels[labels_to_scramble] = new_values\n",
    "\n",
    "    return labels"
   ]
  },
  {
   "cell_type": "markdown",
   "metadata": {},
   "source": [
    "I can test this function with a dummy example:"
   ]
  },
  {
   "cell_type": "code",
   "execution_count": 9,
   "metadata": {},
   "outputs": [
    {
     "name": "stdout",
     "output_type": "stream",
     "text": [
      "Original labels: [0 1 2 3 4 5 6 7 8 9]\n",
      "10% scrambling:  [0 6 2 3 4 5 6 7 8 9]\n",
      "50% scrambling:  [0 1 2 3 9 3 8 8 8 0]\n",
      "100% scrambling: [5 9 7 8 8 2 8 8 0 4]\n"
     ]
    }
   ],
   "source": [
    "dummy_labels = np.arange(10)\n",
    "print(\"Original labels: {}\".format(dummy_labels))\n",
    "print(\"10% scrambling:  {}\".format(scramble_labels(dummy_labels, 0.1)))\n",
    "print(\"50% scrambling:  {}\".format(scramble_labels(dummy_labels, 0.5)))\n",
    "print(\"100% scrambling: {}\".format(scramble_labels(dummy_labels, 1)))"
   ]
  },
  {
   "cell_type": "markdown",
   "metadata": {},
   "source": [
    "## Training and evaluating the model on scrambled labels\n",
    "To assess the model's performance, I train the model on the scrambled labels but then assess its performance with regards to the true labels to ascertain how well it reconstructs the correct relationship between input data and true labels from the noisy training data. A comparison of the training and validation losses shows that the models are not overfitting."
   ]
  },
  {
   "cell_type": "code",
   "execution_count": 10,
   "metadata": {},
   "outputs": [
    {
     "name": "stdout",
     "output_type": "stream",
     "text": [
      "Scrambling percentage: 0.0\n",
      "-------------------------\n",
      "WARNING:tensorflow:From /home/jan/anaconda3/envs/py3/lib/python3.7/site-packages/tensorflow/python/ops/math_ops.py:3066: to_int32 (from tensorflow.python.ops.math_ops) is deprecated and will be removed in a future version.\n",
      "Instructions for updating:\n",
      "Use tf.cast instead.\n",
      "Train on 42000 samples, validate on 18000 samples\n",
      "Epoch 1/5\n",
      " - 24s - loss: 0.1859 - val_loss: 0.0789\n",
      "Epoch 2/5\n",
      " - 32s - loss: 0.0526 - val_loss: 0.0592\n",
      "Epoch 3/5\n",
      " - 25s - loss: 0.0420 - val_loss: 0.0447\n",
      "Epoch 4/5\n",
      " - 24s - loss: 0.0318 - val_loss: nan\n",
      "Epoch 5/5\n",
      " - 44s - loss: 0.0276 - val_loss: 0.0534\n",
      "-------------------------\n",
      "Scrambling percentage: 0.1\n",
      "-------------------------\n",
      "Train on 42000 samples, validate on 18000 samples\n",
      "Epoch 1/5\n",
      " - 44s - loss: 0.6467 - val_loss: 0.6239\n",
      "Epoch 2/5\n",
      " - 46s - loss: 0.6051 - val_loss: 0.6141\n",
      "Epoch 3/5\n",
      " - 43s - loss: 0.5853 - val_loss: 0.6141\n",
      "Epoch 4/5\n",
      " - 44s - loss: 0.5683 - val_loss: 0.6179\n",
      "Epoch 5/5\n",
      " - 44s - loss: 0.5520 - val_loss: 0.6262\n",
      "-------------------------\n",
      "Scrambling percentage: 0.2\n",
      "-------------------------\n",
      "Train on 42000 samples, validate on 18000 samples\n",
      "Epoch 1/5\n",
      " - 46s - loss: 1.0086 - val_loss: 1.0217\n",
      "Epoch 2/5\n",
      " - 43s - loss: 0.9779 - val_loss: 1.0161\n",
      "Epoch 3/5\n",
      " - 41s - loss: 0.9581 - val_loss: 1.0198\n",
      "Epoch 4/5\n",
      " - 41s - loss: 0.9394 - val_loss: 1.0240\n",
      "Epoch 5/5\n",
      " - 41s - loss: 0.9164 - val_loss: 1.0423\n",
      "-------------------------\n",
      "Scrambling percentage: 0.30000000000000004\n",
      "-------------------------\n",
      "Train on 42000 samples, validate on 18000 samples\n",
      "Epoch 1/5\n",
      " - 42s - loss: 1.3353 - val_loss: 1.3507\n",
      "Epoch 2/5\n",
      " - 43s - loss: 1.3038 - val_loss: 1.3353\n",
      "Epoch 3/5\n",
      " - 41s - loss: 1.2841 - val_loss: 1.3420\n",
      "Epoch 4/5\n",
      " - 41s - loss: 1.2636 - val_loss: 1.3597\n",
      "Epoch 5/5\n",
      " - 38s - loss: 1.2394 - val_loss: 1.3804\n",
      "-------------------------\n",
      "Scrambling percentage: 0.4\n",
      "-------------------------\n",
      "Train on 42000 samples, validate on 18000 samples\n",
      "Epoch 1/5\n",
      " - 23s - loss: 1.6106 - val_loss: 1.6083\n",
      "Epoch 2/5\n",
      " - 23s - loss: 1.5787 - val_loss: 1.6086\n",
      "Epoch 3/5\n",
      " - 23s - loss: 1.5578 - val_loss: 1.6170\n",
      "Epoch 4/5\n",
      " - 23s - loss: 1.5367 - val_loss: 1.6221\n",
      "Epoch 5/5\n",
      " - 23s - loss: 1.5085 - val_loss: 1.6413\n",
      "-------------------------\n",
      "Scrambling percentage: 0.5\n",
      "-------------------------\n",
      "Train on 42000 samples, validate on 18000 samples\n",
      "Epoch 1/5\n",
      " - 23s - loss: 1.8464 - val_loss: 1.8496\n",
      "Epoch 2/5\n",
      " - 23s - loss: 1.8199 - val_loss: 1.8432\n",
      "Epoch 3/5\n",
      " - 23s - loss: 1.8008 - val_loss: 1.8426\n",
      "Epoch 4/5\n",
      " - 23s - loss: 1.7802 - val_loss: 1.8527\n",
      "Epoch 5/5\n",
      " - 23s - loss: 1.7537 - val_loss: 1.8637\n",
      "-------------------------\n",
      "Scrambling percentage: 0.6000000000000001\n",
      "-------------------------\n",
      "Train on 42000 samples, validate on 18000 samples\n",
      "Epoch 1/5\n",
      " - 23s - loss: 2.0305 - val_loss: 2.0313\n",
      "Epoch 2/5\n",
      " - 23s - loss: 2.0070 - val_loss: 2.0300\n",
      "Epoch 3/5\n",
      " - 23s - loss: 1.9887 - val_loss: 2.0411\n",
      "Epoch 4/5\n",
      " - 23s - loss: 1.9686 - val_loss: 2.0470\n",
      "Epoch 5/5\n",
      " - 26s - loss: 1.9439 - val_loss: 2.0600\n",
      "-------------------------\n",
      "Scrambling percentage: 0.7000000000000001\n",
      "-------------------------\n",
      "Train on 42000 samples, validate on 18000 samples\n",
      "Epoch 1/5\n",
      " - 23s - loss: 2.1786 - val_loss: 2.1752\n",
      "Epoch 2/5\n",
      " - 23s - loss: 2.1614 - val_loss: 2.1752\n",
      "Epoch 3/5\n",
      " - 23s - loss: 2.1467 - val_loss: 2.1788\n",
      "Epoch 4/5\n",
      " - 23s - loss: 2.1309 - val_loss: 2.1865\n",
      "Epoch 5/5\n",
      " - 23s - loss: 2.1086 - val_loss: 2.2018\n",
      "-------------------------\n",
      "Scrambling percentage: 0.8\n",
      "-------------------------\n",
      "Train on 42000 samples, validate on 18000 samples\n",
      "Epoch 1/5\n",
      " - 23s - loss: 2.2729 - val_loss: 2.2690\n",
      "Epoch 2/5\n",
      " - 23s - loss: 2.2623 - val_loss: 2.2690\n",
      "Epoch 3/5\n",
      " - 23s - loss: 2.2546 - val_loss: 2.2726\n",
      "Epoch 4/5\n",
      " - 23s - loss: 2.2437 - val_loss: 2.2769\n",
      "Epoch 5/5\n",
      " - 26s - loss: 2.2278 - val_loss: 2.2908\n",
      "-------------------------\n",
      "Scrambling percentage: 0.9\n",
      "-------------------------\n",
      "Train on 42000 samples, validate on 18000 samples\n",
      "Epoch 1/5\n",
      " - 23s - loss: 2.3062 - val_loss: 2.3032\n",
      "Epoch 2/5\n",
      " - 23s - loss: 2.3022 - val_loss: 2.3035\n",
      "Epoch 3/5\n",
      " - 26s - loss: 2.3013 - val_loss: 2.3033\n",
      "Epoch 4/5\n",
      " - 25s - loss: 2.3012 - val_loss: 2.3045\n",
      "Epoch 5/5\n",
      " - 25s - loss: 2.2991 - val_loss: 2.3045\n",
      "-------------------------\n",
      "Scrambling percentage: 1.0\n",
      "-------------------------\n",
      "Train on 42000 samples, validate on 18000 samples\n",
      "Epoch 1/5\n",
      " - 28s - loss: 2.3012 - val_loss: 2.2987\n",
      "Epoch 2/5\n",
      " - 27s - loss: 2.2913 - val_loss: 2.2830\n",
      "Epoch 3/5\n",
      " - 28s - loss: 2.2722 - val_loss: 2.2657\n",
      "Epoch 4/5\n",
      " - 29s - loss: 2.2523 - val_loss: 2.2569\n",
      "Epoch 5/5\n",
      " - 24s - loss: 2.2391 - val_loss: 2.2499\n",
      "-------------------------\n"
     ]
    }
   ],
   "source": [
    "f1scores_real = []\n",
    "f1scores_scrambled = []\n",
    "training_histories = []\n",
    "percentages = np.arange(0, 1.1, 0.1)\n",
    "\n",
    "for p in percentages:\n",
    "    print(\"Scrambling percentage: {:.2f}\".format(p))\n",
    "    print(\"-------------------------\")\n",
    "    y_train_scrambled = scramble_labels(\n",
    "        labels=y_train, percentage=p)\n",
    "    y_test_scrambled = scramble_labels(\n",
    "        labels=y_test, percentage=p)\n",
    "\n",
    "    y_train_cat = keras.utils.to_categorical(y_train)\n",
    "    y_test_cat = keras.utils.to_categorical(y_test)\n",
    "    y_train_scrambled_cat = keras.utils.to_categorical(y_train_scrambled)\n",
    "    y_test_scrambled_cat = keras.utils.to_categorical(y_test_scrambled)\n",
    "    \n",
    "    training_histories.append(model.fit(\n",
    "        x=x_train, y=y_train_scrambled_cat,\n",
    "        validation_split=0.3,\n",
    "        batch_size=32, epochs=5, verbose=2))\n",
    "\n",
    "    pred = model.predict(x=x_test)\n",
    "\n",
    "    f1scores_real.append(\n",
    "        sklearn.metrics.f1_score(\n",
    "            y_true=np.argmax(y_test_cat, axis=1),\n",
    "            y_pred=np.argmax(pred, axis=1),\n",
    "            average=\"weighted\"))\n",
    "\n",
    "    f1scores_scrambled.append(\n",
    "        sklearn.metrics.f1_score(\n",
    "            y_true=np.argmax(y_test_scrambled_cat, axis=1),\n",
    "            y_pred=np.argmax(pred, axis=1),\n",
    "            average=\"weighted\"))\n",
    "    print(\"-------------------------\")"
   ]
  },
  {
   "cell_type": "code",
   "execution_count": 11,
   "metadata": {},
   "outputs": [],
   "source": [
    "results = pd.DataFrame(\n",
    "    data={\n",
    "        \"TrueF1\": f1scores_real,\n",
    "        \"ScrambledF1\": f1scores_scrambled},\n",
    "    index=np.round(percentages, 2))\n",
    "results.index.name = \"Percentages\"\n",
    "results.to_csv(\"F1Scores.csv\")"
   ]
  },
  {
   "cell_type": "markdown",
   "metadata": {},
   "source": [
    "Comparing the F1 scores with regards to the true and the scrambled labels reveals a remarkable characteristic: the model is capable of learning the true relationship between input data and target variables even when up to $80\\%$ of the training labels are scrambled! In fact, the model fails to properly learn the relationship between input data and the scrambled labels, as evidenced by the steadily-declining F1 score with regarrds to the scrambled labels."
   ]
  },
  {
   "cell_type": "code",
   "execution_count": 12,
   "metadata": {},
   "outputs": [
    {
     "data": {
      "image/png": "[encoded data removed]",
      "text/plain": [
       "<Figure size 432x288 with 1 Axes>"
      ]
     },
     "metadata": {
      "needs_background": "light"
     },
     "output_type": "display_data"
    }
   ],
   "source": [
    "ax = results.plot(title=\"F1 Scores with regards to true and scrambled labels\")\n",
    "ax.set_xlabel(\"Scrambling percentage\");\n",
    "ax.set_ylabel(\"F1 Score\");"
   ]
  },
  {
   "cell_type": "markdown",
   "metadata": {},
   "source": [
    "## Conclusion\n",
    "A neural network is clearly capable of learning the correct relationship between input data and target variables, even when training labels have been partially falsified. Astonishingly, the true performance doesn't gradually decrease but abruptly fails. In this case, the model performed near-perfectly up to a scrambling percentage of approximately $80\\%$. For scrambling percentages above this threshold, the model fails entirely and performance drops to what would be expected of random guessing.\n",
    "\n",
    "It needs to be said that the MNIST handwritten digits dataset is remarkably simple, which explains the high threshold. More complex datasets will have a lower threshold but should nevertheless elicit the same behaviour in models trained on noisy data."
   ]
  }
 ],
 "metadata": {
  "kernelspec": {
   "display_name": "Python 3",
   "language": "python",
   "name": "python3"
  },
  "language_info": {
   "codemirror_mode": {
    "name": "ipython",
    "version": 3
   },
   "file_extension": ".py",
   "mimetype": "text/x-python",
   "name": "python",
   "nbconvert_exporter": "python",
   "pygments_lexer": "ipython3",
   "version": "3.7.3"
  }
 },
 "nbformat": 4,
 "nbformat_minor": 2
}
