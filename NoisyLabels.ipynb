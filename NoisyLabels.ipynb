{
 "cells": [
  {
   "cell_type": "markdown",
   "metadata": {},
   "source": [
    "# Training Neural Networks with Noisy Labels\n",
    "\n",
    "Neural networks, especially deep neural networks with many parameters, require a large amount of training data. This has led to the development of sophisticated data augmentation methods as well as entire industries dedicated to data annotation. The validation of these annotation labels is a common problem whenever such a large amount of data is involved as incorrect, or noisy, labels can lead to incorrectly trained machine learning algorithms that do not properly identify patterns within the data."
   ]
  },
  {
   "cell_type": "markdown",
   "metadata": {},
   "source": [
    "## Imports"
   ]
  },
  {
   "cell_type": "code",
   "execution_count": 2,
   "metadata": {},
   "outputs": [],
   "source": [
    "%matplotlib inline\n",
    "import h5py\n",
    "import numpy as np\n",
    "import matplotlib.pyplot as plt\n",
    "from IPython.display import SVG\n",
    "import keras.utils\n",
    "from keras.models import Model\n",
    "from keras.layers import Input, Conv2D, MaxPool2D, Dense, Flatten"
   ]
  },
  {
   "cell_type": "markdown",
   "metadata": {},
   "source": [
    "## The Data\n",
    "To showcase the effects of noisy labels, I will use the [MNIST handwritten digit dataset](http://yann.lecun.com/exdb/mnist/). I have previously downloaded and pre-processed the data and stored it in an HDF5 file."
   ]
  },
  {
   "cell_type": "code",
   "execution_count": 3,
   "metadata": {},
   "outputs": [],
   "source": [
    "with h5py.File(\"MNIST.h5\", \"r\") as h5handle:\n",
    "    images = h5handle[\"images\"][()]\n",
    "    labels = h5handle[\"labels\"][()].astype(np.str)"
   ]
  },
  {
   "cell_type": "markdown",
   "metadata": {},
   "source": [
    "The images are stored as a 4D array (Tensorflow format: batch size, width, height, number of channels) and the labels are a simple 1D array."
   ]
  },
  {
   "cell_type": "code",
   "execution_count": 4,
   "metadata": {},
   "outputs": [
    {
     "name": "stdout",
     "output_type": "stream",
     "text": [
      "Images array shape: (70000, 28, 28, 1)\n",
      "Labels array shape: (70000,)\n"
     ]
    }
   ],
   "source": [
    "print(\"Images array shape: {}\".format(images.shape))\n",
    "print(\"Labels array shape: {}\".format(labels.shape))"
   ]
  },
  {
   "cell_type": "markdown",
   "metadata": {},
   "source": [
    "A look at some of the digits shows us the expected output."
   ]
  },
  {
   "cell_type": "code",
   "execution_count": 5,
   "metadata": {},
   "outputs": [
    {
     "data": {
      "image/png": "[encoded data removed]",
      "text/plain": [
       "<Figure size 432x288 with 4 Axes>"
      ]
     },
     "metadata": {
      "needs_background": "light"
     },
     "output_type": "display_data"
    }
   ],
   "source": [
    "fig, ax = plt.subplots(2, 2);\n",
    "ax[0, 0].imshow(images[284, ..., 0], cmap=\"gray\");\n",
    "ax[0, 0].set_title(\"Label: \" + labels[284]);\n",
    "ax[0, 0].axis(\"off\");\n",
    "ax[0, 1].imshow(images[1129, ..., 0], cmap=\"gray\");\n",
    "ax[0, 1].set_title(\"Label: \" + labels[1129]);\n",
    "ax[0, 1].axis(\"off\");\n",
    "ax[1, 0].imshow(images[9470, ..., 0], cmap=\"gray\");\n",
    "ax[1, 0].set_title(\"Label: \" + labels[9470]);\n",
    "ax[1, 0].axis(\"off\");\n",
    "ax[1, 1].imshow(images[30044, ..., 0], cmap=\"gray\");\n",
    "ax[1, 1].set_title(\"Label: \" + labels[30044]);\n",
    "ax[1, 1].axis(\"off\");\n",
    "plt.show()"
   ]
  },
  {
   "cell_type": "markdown",
   "metadata": {},
   "source": [
    "## The Model\n",
    "We'll be using a simple convolutional network for this task. MNIST is an extremely easy dataset to classify and doesn't require a particularly sophisticated model."
   ]
  },
  {
   "cell_type": "code",
   "execution_count": 65,
   "metadata": {},
   "outputs": [],
   "source": [
    "def get_model(img_shape, nclasses):\n",
    "    \"\"\"\n",
    "    Build convolutional network\n",
    "    :param img_shape:\n",
    "    :param nclasses:\n",
    "    :return:\n",
    "    \"\"\"\n",
    "    inputs = Input(shape=img_shape, name=\"Input\")\n",
    "    conv1 = Conv2D(\n",
    "        filters=32, kernel_size=(3, 3),\n",
    "        activation=\"relu\", padding=\"valid\",\n",
    "        strides=(1, 1), name=\"Conv1\")(inputs)\n",
    "    conv2 = Conv2D(\n",
    "        filters=32, kernel_size=(3, 3),\n",
    "        activation=\"relu\", padding=\"valid\",\n",
    "        strides=(1, 1), name=\"Conv2\")(conv1)\n",
    "    maxpool1 = MaxPool2D(\n",
    "        pool_size=(3, 3), strides=(2, 2), \n",
    "        padding=\"valid\", name=\"MaxPool1\")(conv2)\n",
    "\n",
    "    conv3 = Conv2D(\n",
    "        filters=64, kernel_size=(3, 3),\n",
    "        activation=\"relu\", padding=\"valid\",\n",
    "        strides=(1, 1), name=\"Conv3\")(maxpool1)\n",
    "    conv4 = Conv2D(\n",
    "        filters=64, kernel_size=(3, 3),\n",
    "        activation=\"relu\", padding=\"valid\",\n",
    "        strides=(1, 1), name=\"Conv4\")(conv3)\n",
    "    maxpool2 = MaxPool2D(\n",
    "        pool_size=(3, 3), strides=(2, 2), \n",
    "        padding=\"valid\", name=\"MaxPool2\")(conv4)\n",
    "\n",
    "    flattened = Flatten(name=\"Reshape\")(maxpool2)\n",
    "\n",
    "    outputs = Dense(name=\"Dense\", units=nclasses, activation=\"sigmoid\")(flattened)\n",
    "\n",
    "    model = Model(inputs=inputs, outputs=outputs)\n",
    "    model.compile(loss=\"categorical_crossentropy\", optimizer=\"Adam\")\n",
    "    \n",
    "    return model"
   ]
  },
  {
   "cell_type": "code",
   "execution_count": 66,
   "metadata": {},
   "outputs": [],
   "source": [
    "model = get_model(\n",
    "    img_shape=images.shape[1:4], \n",
    "    nclasses=len(np.unique(labels)))"
   ]
  },
  {
   "cell_type": "code",
   "execution_count": 87,
   "metadata": {},
   "outputs": [
    {
     "name": "stdout",
     "output_type": "stream",
     "text": [
      "Name      | Output Shape        | Kernel / Pool Shape\n",
      "----------|---------------------|--------------------\n",
      "Input     | (None, 28, 28, 1)   |\n",
      "Conv1     | (None, 26, 26, 32)  | [3, 3, 1, 32]       \n",
      "Conv2     | (None, 24, 24, 32)  | [3, 3, 32, 32]      \n",
      "MaxPool1  | (None, 11, 11, 32)  | (3, 3)              \n",
      "Conv3     | (None, 9, 9, 64)    | [3, 3, 32, 64]      \n",
      "Conv4     | (None, 7, 7, 64)    | [3, 3, 64, 64]      \n",
      "MaxPool2  | (None, 3, 3, 64)    | (3, 3)              \n",
      "Reshape   | (None, 576)         |\n",
      "Dense     | (None, 10)          | [576, 10]           \n",
      "\n"
     ]
    }
   ],
   "source": [
    "def print_model(model):\n",
    "    desc = \"Name      | Output Shape        | Kernel / Pool Shape\\n\"\n",
    "    desc += \"----------|---------------------|--------------------\\n\"\n",
    "    for layer in model.layers:\n",
    "        desc += \"{:<10}|\".format(layer.name)\n",
    "        desc += \" {:<20}|\".format(str(layer.output_shape))\n",
    "        if hasattr(layer, \"kernel\"):\n",
    "            desc += \" {:<20}\".format(str(layer.kernel.shape.as_list()))\n",
    "        if hasattr(layer, \"pool_size\"):\n",
    "            desc += \" {:<20}\".format(str(layer.pool_size))\n",
    "        desc += \"\\n\"\n",
    "    print(desc)\n",
    "    \n",
    "print_model(model)"
   ]
  },
  {
   "cell_type": "markdown",
   "metadata": {},
   "source": [
    "## Scrambling the labels\n",
    "Next, we want to define a function that scrambles the labels. It's important that this function allows us to control the fraction of labels that are guaranteed to be correct. That means labels selected for scrambling may not get their original label assigned to them."
   ]
  },
  {
   "cell_type": "code",
   "execution_count": null,
   "metadata": {},
   "outputs": [],
   "source": [
    "def scramble_labels(labels, percentage, possible_values=None):\n",
    "    \"\"\"\n",
    "    Takes a label vector and randomly scrambles a fraction of the labels.\n",
    "\n",
    "    The scrambling ensures that none of the altered labels will have their\n",
    "    original value, i.e. the scrambling percentage is guaranteed.\n",
    "\n",
    "    By default, the function assumes that 'labels' contains all possible \n",
    "    label values. Should this not be the case, 'possible_values' can be used\n",
    "    to pass a list of all possible labels.\n",
    "\n",
    "    :param labels: Numpy array (num_labels,)\n",
    "    :param percentage: Integer\n",
    "    :param possible_values: Numpy array (num_unique_labels,)\n",
    "    :return:\n",
    "    \"\"\"\n",
    "    if percentage > 1:\n",
    "        print(\"'scramble_freq' truncated to 1.0\")\n",
    "        percentage = 1.0\n",
    "\n",
    "    if percentage == 0:\n",
    "        return labels\n",
    "\n",
    "    labels = labels.flatten()\n",
    "\n",
    "    labels_to_scramble = np.random.choice(\n",
    "        a=range(len(labels)),\n",
    "        size=int(len(labels) * percentage),\n",
    "        replace=False)\n",
    "\n",
    "    # Define possible values for each entry\n",
    "    if possible_values is None:\n",
    "        possible_values = np.unique(labels)\n",
    "    \n",
    "    if not np.all(np.isin(np.unique(labels), possible_values)):\n",
    "        raise ValueError(\n",
    "            \"'labels' contains values not found in 'possible_values'\")\n",
    "    \n",
    "    possible_values = np.repeat(\n",
    "        a=np.expand_dims(possible_values, 0),\n",
    "        repeats=labels_to_scramble.shape[0],\n",
    "        axis=0)\n",
    "    forbidden_values = np.repeat(\n",
    "        a=np.expand_dims(labels[labels_to_scramble], 1),\n",
    "        repeats=len(np.unique(labels)), axis=1)\n",
    "\n",
    "    sel = possible_values != forbidden_values\n",
    "    new_possible_values = np.reshape(\n",
    "        a=possible_values[sel],\n",
    "        newshape=(possible_values.shape[0], possible_values.shape[1]-1))\n",
    "\n",
    "    new_values = []\n",
    "    for vals in new_possible_values:\n",
    "        new_values.append(np.random.choice(vals))\n",
    "    new_values = np.array(new_values)\n",
    "    labels[labels_to_scramble] = new_values\n",
    "\n",
    "    return labels"
   ]
  },
  {
   "cell_type": "markdown",
   "metadata": {},
   "source": [
    "We can test this function with a dummy example:"
   ]
  },
  {
   "cell_type": "code",
   "execution_count": null,
   "metadata": {},
   "outputs": [],
   "source": [
    "dummy_labels = np.arange(10).astype(str)\n",
    "print(\"Original labels: {}\".format(dummy_labels))\n",
    "print(\"10% scrambling:  {}\".format(scramble_labels(dummy_labels, 0.1)))\n",
    "print(\"50% scrambling:  {}\".format(scramble_labels(dummy_labels, 0.5)))\n",
    "print(\"100% scrambling: {}\".format(scramble_labels(dummy_labels, 1)))"
   ]
  },
  {
   "cell_type": "markdown",
   "metadata": {},
   "source": [
    "Since we'"
   ]
  },
  {
   "cell_type": "code",
   "execution_count": null,
   "metadata": {},
   "outputs": [],
   "source": [
    "print(dummy_labels)\n",
    "keras.utils.to_categorical(dummy_labels)"
   ]
  },
  {
   "cell_type": "code",
   "execution_count": null,
   "metadata": {},
   "outputs": [],
   "source": [
    "scrambled_labels = scramble_labels(dummy_labels, 0.5)\n",
    "print(scrambled_labels)\n",
    "keras.utils.to_categorical(scrambled_labels)"
   ]
  },
  {
   "cell_type": "code",
   "execution_count": null,
   "metadata": {},
   "outputs": [],
   "source": []
  }
 ],
 "metadata": {
  "kernelspec": {
   "display_name": "Python 3",
   "language": "python",
   "name": "python3"
  },
  "language_info": {
   "codemirror_mode": {
    "name": "ipython",
    "version": 3
   },
   "file_extension": ".py",
   "mimetype": "text/x-python",
   "name": "python",
   "nbconvert_exporter": "python",
   "pygments_lexer": "ipython3",
   "version": "3.7.3"
  }
 },
 "nbformat": 4,
 "nbformat_minor": 2
}
